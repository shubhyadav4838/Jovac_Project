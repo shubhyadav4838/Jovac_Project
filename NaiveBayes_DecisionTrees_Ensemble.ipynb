{
 "cells": [
  {
   "cell_type": "markdown",
   "id": "f9d0836f",
   "metadata": {},
   "source": [
    "## Part I: Naive Bayes Classifier"
   ]
  },
  {
   "cell_type": "markdown",
   "id": "85e5d9ad",
   "metadata": {},
   "source": [
    "## Task 1: Theory (Answers written as comments)\n",
    " 1. Naive Bayes assumes all features are conditionally independent given the class label.\n",
    " 2. GaussianNB: for continuous data (normal distribution); MultinomialNB: for count data; BernoulliNB: for binary data.\n",
    " 3. Naive Bayes handles high-dimensional data well due to its simple probabilistic model and low training time."
   ]
  },
  {
   "cell_type": "markdown",
   "id": "c6f5670c",
   "metadata": {},
   "source": [
    "## Task 2: Spam Detection using MultinomialNB"
   ]
  },
  {
   "cell_type": "code",
   "execution_count": 1,
   "id": "86437c5e",
   "metadata": {},
   "outputs": [],
   "source": [
    "from sklearn.datasets import fetch_openml\n",
    "from sklearn.model_selection import train_test_split\n",
    "from sklearn.feature_extraction.text import CountVectorizer\n",
    "from sklearn.naive_bayes import MultinomialNB\n",
    "from sklearn.metrics import accuracy_score, precision_score, recall_score, confusion_matrix\n",
    "import pandas as pd"
   ]
  },
  {
   "cell_type": "code",
   "execution_count": 2,
   "id": "3a450ed3",
   "metadata": {},
   "outputs": [
    {
     "name": "stdout",
     "output_type": "stream",
     "text": [
      "Accuracy: 0.9850478468899522\n",
      "Precision: 0.9307359307359307\n",
      "Recall: 0.9598214285714286\n",
      "Confusion Matrix:\n",
      " [[1432   16]\n",
      " [   9  215]]\n"
     ]
    }
   ],
   "source": [
    "df = pd.read_csv(\"https://raw.githubusercontent.com/justmarkham/pycon-2016-tutorial/master/data/sms.tsv\", sep='\\t', header=None, names=['label', 'message'])\n",
    "df['label'] = df['label'].map({'ham': 0, 'spam': 1})\n",
    "X = CountVectorizer().fit_transform(df['message'])\n",
    "y = df['label']\n",
    "X_train, X_test, y_train, y_test = train_test_split(X, y, test_size=0.3, random_state=42)\n",
    "clf = MultinomialNB()\n",
    "clf.fit(X_train, y_train)\n",
    "y_pred = clf.predict(X_test)\n",
    "print(\"Accuracy:\", accuracy_score(y_test, y_pred))\n",
    "print(\"Precision:\", precision_score(y_test, y_pred))\n",
    "print(\"Recall:\", recall_score(y_test, y_pred))\n",
    "print(\"Confusion Matrix:\\n\", confusion_matrix(y_test, y_pred))\n"
   ]
  },
  {
   "cell_type": "markdown",
   "id": "00b213d8",
   "metadata": {},
   "source": [
    "## Task 3: GaussianNB with Iris Dataset"
   ]
  },
  {
   "cell_type": "code",
   "execution_count": 3,
   "id": "389c5ac3",
   "metadata": {},
   "outputs": [
    {
     "data": {
      "text/html": [
       "<style>#sk-container-id-1 {\n",
       "  /* Definition of color scheme common for light and dark mode */\n",
       "  --sklearn-color-text: black;\n",
       "  --sklearn-color-line: gray;\n",
       "  /* Definition of color scheme for unfitted estimators */\n",
       "  --sklearn-color-unfitted-level-0: #fff5e6;\n",
       "  --sklearn-color-unfitted-level-1: #f6e4d2;\n",
       "  --sklearn-color-unfitted-level-2: #ffe0b3;\n",
       "  --sklearn-color-unfitted-level-3: chocolate;\n",
       "  /* Definition of color scheme for fitted estimators */\n",
       "  --sklearn-color-fitted-level-0: #f0f8ff;\n",
       "  --sklearn-color-fitted-level-1: #d4ebff;\n",
       "  --sklearn-color-fitted-level-2: #b3dbfd;\n",
       "  --sklearn-color-fitted-level-3: cornflowerblue;\n",
       "\n",
       "  /* Specific color for light theme */\n",
       "  --sklearn-color-text-on-default-background: var(--sg-text-color, var(--theme-code-foreground, var(--jp-content-font-color1, black)));\n",
       "  --sklearn-color-background: var(--sg-background-color, var(--theme-background, var(--jp-layout-color0, white)));\n",
       "  --sklearn-color-border-box: var(--sg-text-color, var(--theme-code-foreground, var(--jp-content-font-color1, black)));\n",
       "  --sklearn-color-icon: #696969;\n",
       "\n",
       "  @media (prefers-color-scheme: dark) {\n",
       "    /* Redefinition of color scheme for dark theme */\n",
       "    --sklearn-color-text-on-default-background: var(--sg-text-color, var(--theme-code-foreground, var(--jp-content-font-color1, white)));\n",
       "    --sklearn-color-background: var(--sg-background-color, var(--theme-background, var(--jp-layout-color0, #111)));\n",
       "    --sklearn-color-border-box: var(--sg-text-color, var(--theme-code-foreground, var(--jp-content-font-color1, white)));\n",
       "    --sklearn-color-icon: #878787;\n",
       "  }\n",
       "}\n",
       "\n",
       "#sk-container-id-1 {\n",
       "  color: var(--sklearn-color-text);\n",
       "}\n",
       "\n",
       "#sk-container-id-1 pre {\n",
       "  padding: 0;\n",
       "}\n",
       "\n",
       "#sk-container-id-1 input.sk-hidden--visually {\n",
       "  border: 0;\n",
       "  clip: rect(1px 1px 1px 1px);\n",
       "  clip: rect(1px, 1px, 1px, 1px);\n",
       "  height: 1px;\n",
       "  margin: -1px;\n",
       "  overflow: hidden;\n",
       "  padding: 0;\n",
       "  position: absolute;\n",
       "  width: 1px;\n",
       "}\n",
       "\n",
       "#sk-container-id-1 div.sk-dashed-wrapped {\n",
       "  border: 1px dashed var(--sklearn-color-line);\n",
       "  margin: 0 0.4em 0.5em 0.4em;\n",
       "  box-sizing: border-box;\n",
       "  padding-bottom: 0.4em;\n",
       "  background-color: var(--sklearn-color-background);\n",
       "}\n",
       "\n",
       "#sk-container-id-1 div.sk-container {\n",
       "  /* jupyter's `normalize.less` sets `[hidden] { display: none; }`\n",
       "     but bootstrap.min.css set `[hidden] { display: none !important; }`\n",
       "     so we also need the `!important` here to be able to override the\n",
       "     default hidden behavior on the sphinx rendered scikit-learn.org.\n",
       "     See: https://github.com/scikit-learn/scikit-learn/issues/21755 */\n",
       "  display: inline-block !important;\n",
       "  position: relative;\n",
       "}\n",
       "\n",
       "#sk-container-id-1 div.sk-text-repr-fallback {\n",
       "  display: none;\n",
       "}\n",
       "\n",
       "div.sk-parallel-item,\n",
       "div.sk-serial,\n",
       "div.sk-item {\n",
       "  /* draw centered vertical line to link estimators */\n",
       "  background-image: linear-gradient(var(--sklearn-color-text-on-default-background), var(--sklearn-color-text-on-default-background));\n",
       "  background-size: 2px 100%;\n",
       "  background-repeat: no-repeat;\n",
       "  background-position: center center;\n",
       "}\n",
       "\n",
       "/* Parallel-specific style estimator block */\n",
       "\n",
       "#sk-container-id-1 div.sk-parallel-item::after {\n",
       "  content: \"\";\n",
       "  width: 100%;\n",
       "  border-bottom: 2px solid var(--sklearn-color-text-on-default-background);\n",
       "  flex-grow: 1;\n",
       "}\n",
       "\n",
       "#sk-container-id-1 div.sk-parallel {\n",
       "  display: flex;\n",
       "  align-items: stretch;\n",
       "  justify-content: center;\n",
       "  background-color: var(--sklearn-color-background);\n",
       "  position: relative;\n",
       "}\n",
       "\n",
       "#sk-container-id-1 div.sk-parallel-item {\n",
       "  display: flex;\n",
       "  flex-direction: column;\n",
       "}\n",
       "\n",
       "#sk-container-id-1 div.sk-parallel-item:first-child::after {\n",
       "  align-self: flex-end;\n",
       "  width: 50%;\n",
       "}\n",
       "\n",
       "#sk-container-id-1 div.sk-parallel-item:last-child::after {\n",
       "  align-self: flex-start;\n",
       "  width: 50%;\n",
       "}\n",
       "\n",
       "#sk-container-id-1 div.sk-parallel-item:only-child::after {\n",
       "  width: 0;\n",
       "}\n",
       "\n",
       "/* Serial-specific style estimator block */\n",
       "\n",
       "#sk-container-id-1 div.sk-serial {\n",
       "  display: flex;\n",
       "  flex-direction: column;\n",
       "  align-items: center;\n",
       "  background-color: var(--sklearn-color-background);\n",
       "  padding-right: 1em;\n",
       "  padding-left: 1em;\n",
       "}\n",
       "\n",
       "\n",
       "/* Toggleable style: style used for estimator/Pipeline/ColumnTransformer box that is\n",
       "clickable and can be expanded/collapsed.\n",
       "- Pipeline and ColumnTransformer use this feature and define the default style\n",
       "- Estimators will overwrite some part of the style using the `sk-estimator` class\n",
       "*/\n",
       "\n",
       "/* Pipeline and ColumnTransformer style (default) */\n",
       "\n",
       "#sk-container-id-1 div.sk-toggleable {\n",
       "  /* Default theme specific background. It is overwritten whether we have a\n",
       "  specific estimator or a Pipeline/ColumnTransformer */\n",
       "  background-color: var(--sklearn-color-background);\n",
       "}\n",
       "\n",
       "/* Toggleable label */\n",
       "#sk-container-id-1 label.sk-toggleable__label {\n",
       "  cursor: pointer;\n",
       "  display: block;\n",
       "  width: 100%;\n",
       "  margin-bottom: 0;\n",
       "  padding: 0.5em;\n",
       "  box-sizing: border-box;\n",
       "  text-align: center;\n",
       "}\n",
       "\n",
       "#sk-container-id-1 label.sk-toggleable__label-arrow:before {\n",
       "  /* Arrow on the left of the label */\n",
       "  content: \"▸\";\n",
       "  float: left;\n",
       "  margin-right: 0.25em;\n",
       "  color: var(--sklearn-color-icon);\n",
       "}\n",
       "\n",
       "#sk-container-id-1 label.sk-toggleable__label-arrow:hover:before {\n",
       "  color: var(--sklearn-color-text);\n",
       "}\n",
       "\n",
       "/* Toggleable content - dropdown */\n",
       "\n",
       "#sk-container-id-1 div.sk-toggleable__content {\n",
       "  max-height: 0;\n",
       "  max-width: 0;\n",
       "  overflow: hidden;\n",
       "  text-align: left;\n",
       "  /* unfitted */\n",
       "  background-color: var(--sklearn-color-unfitted-level-0);\n",
       "}\n",
       "\n",
       "#sk-container-id-1 div.sk-toggleable__content.fitted {\n",
       "  /* fitted */\n",
       "  background-color: var(--sklearn-color-fitted-level-0);\n",
       "}\n",
       "\n",
       "#sk-container-id-1 div.sk-toggleable__content pre {\n",
       "  margin: 0.2em;\n",
       "  border-radius: 0.25em;\n",
       "  color: var(--sklearn-color-text);\n",
       "  /* unfitted */\n",
       "  background-color: var(--sklearn-color-unfitted-level-0);\n",
       "}\n",
       "\n",
       "#sk-container-id-1 div.sk-toggleable__content.fitted pre {\n",
       "  /* unfitted */\n",
       "  background-color: var(--sklearn-color-fitted-level-0);\n",
       "}\n",
       "\n",
       "#sk-container-id-1 input.sk-toggleable__control:checked~div.sk-toggleable__content {\n",
       "  /* Expand drop-down */\n",
       "  max-height: 200px;\n",
       "  max-width: 100%;\n",
       "  overflow: auto;\n",
       "}\n",
       "\n",
       "#sk-container-id-1 input.sk-toggleable__control:checked~label.sk-toggleable__label-arrow:before {\n",
       "  content: \"▾\";\n",
       "}\n",
       "\n",
       "/* Pipeline/ColumnTransformer-specific style */\n",
       "\n",
       "#sk-container-id-1 div.sk-label input.sk-toggleable__control:checked~label.sk-toggleable__label {\n",
       "  color: var(--sklearn-color-text);\n",
       "  background-color: var(--sklearn-color-unfitted-level-2);\n",
       "}\n",
       "\n",
       "#sk-container-id-1 div.sk-label.fitted input.sk-toggleable__control:checked~label.sk-toggleable__label {\n",
       "  background-color: var(--sklearn-color-fitted-level-2);\n",
       "}\n",
       "\n",
       "/* Estimator-specific style */\n",
       "\n",
       "/* Colorize estimator box */\n",
       "#sk-container-id-1 div.sk-estimator input.sk-toggleable__control:checked~label.sk-toggleable__label {\n",
       "  /* unfitted */\n",
       "  background-color: var(--sklearn-color-unfitted-level-2);\n",
       "}\n",
       "\n",
       "#sk-container-id-1 div.sk-estimator.fitted input.sk-toggleable__control:checked~label.sk-toggleable__label {\n",
       "  /* fitted */\n",
       "  background-color: var(--sklearn-color-fitted-level-2);\n",
       "}\n",
       "\n",
       "#sk-container-id-1 div.sk-label label.sk-toggleable__label,\n",
       "#sk-container-id-1 div.sk-label label {\n",
       "  /* The background is the default theme color */\n",
       "  color: var(--sklearn-color-text-on-default-background);\n",
       "}\n",
       "\n",
       "/* On hover, darken the color of the background */\n",
       "#sk-container-id-1 div.sk-label:hover label.sk-toggleable__label {\n",
       "  color: var(--sklearn-color-text);\n",
       "  background-color: var(--sklearn-color-unfitted-level-2);\n",
       "}\n",
       "\n",
       "/* Label box, darken color on hover, fitted */\n",
       "#sk-container-id-1 div.sk-label.fitted:hover label.sk-toggleable__label.fitted {\n",
       "  color: var(--sklearn-color-text);\n",
       "  background-color: var(--sklearn-color-fitted-level-2);\n",
       "}\n",
       "\n",
       "/* Estimator label */\n",
       "\n",
       "#sk-container-id-1 div.sk-label label {\n",
       "  font-family: monospace;\n",
       "  font-weight: bold;\n",
       "  display: inline-block;\n",
       "  line-height: 1.2em;\n",
       "}\n",
       "\n",
       "#sk-container-id-1 div.sk-label-container {\n",
       "  text-align: center;\n",
       "}\n",
       "\n",
       "/* Estimator-specific */\n",
       "#sk-container-id-1 div.sk-estimator {\n",
       "  font-family: monospace;\n",
       "  border: 1px dotted var(--sklearn-color-border-box);\n",
       "  border-radius: 0.25em;\n",
       "  box-sizing: border-box;\n",
       "  margin-bottom: 0.5em;\n",
       "  /* unfitted */\n",
       "  background-color: var(--sklearn-color-unfitted-level-0);\n",
       "}\n",
       "\n",
       "#sk-container-id-1 div.sk-estimator.fitted {\n",
       "  /* fitted */\n",
       "  background-color: var(--sklearn-color-fitted-level-0);\n",
       "}\n",
       "\n",
       "/* on hover */\n",
       "#sk-container-id-1 div.sk-estimator:hover {\n",
       "  /* unfitted */\n",
       "  background-color: var(--sklearn-color-unfitted-level-2);\n",
       "}\n",
       "\n",
       "#sk-container-id-1 div.sk-estimator.fitted:hover {\n",
       "  /* fitted */\n",
       "  background-color: var(--sklearn-color-fitted-level-2);\n",
       "}\n",
       "\n",
       "/* Specification for estimator info (e.g. \"i\" and \"?\") */\n",
       "\n",
       "/* Common style for \"i\" and \"?\" */\n",
       "\n",
       ".sk-estimator-doc-link,\n",
       "a:link.sk-estimator-doc-link,\n",
       "a:visited.sk-estimator-doc-link {\n",
       "  float: right;\n",
       "  font-size: smaller;\n",
       "  line-height: 1em;\n",
       "  font-family: monospace;\n",
       "  background-color: var(--sklearn-color-background);\n",
       "  border-radius: 1em;\n",
       "  height: 1em;\n",
       "  width: 1em;\n",
       "  text-decoration: none !important;\n",
       "  margin-left: 1ex;\n",
       "  /* unfitted */\n",
       "  border: var(--sklearn-color-unfitted-level-1) 1pt solid;\n",
       "  color: var(--sklearn-color-unfitted-level-1);\n",
       "}\n",
       "\n",
       ".sk-estimator-doc-link.fitted,\n",
       "a:link.sk-estimator-doc-link.fitted,\n",
       "a:visited.sk-estimator-doc-link.fitted {\n",
       "  /* fitted */\n",
       "  border: var(--sklearn-color-fitted-level-1) 1pt solid;\n",
       "  color: var(--sklearn-color-fitted-level-1);\n",
       "}\n",
       "\n",
       "/* On hover */\n",
       "div.sk-estimator:hover .sk-estimator-doc-link:hover,\n",
       ".sk-estimator-doc-link:hover,\n",
       "div.sk-label-container:hover .sk-estimator-doc-link:hover,\n",
       ".sk-estimator-doc-link:hover {\n",
       "  /* unfitted */\n",
       "  background-color: var(--sklearn-color-unfitted-level-3);\n",
       "  color: var(--sklearn-color-background);\n",
       "  text-decoration: none;\n",
       "}\n",
       "\n",
       "div.sk-estimator.fitted:hover .sk-estimator-doc-link.fitted:hover,\n",
       ".sk-estimator-doc-link.fitted:hover,\n",
       "div.sk-label-container:hover .sk-estimator-doc-link.fitted:hover,\n",
       ".sk-estimator-doc-link.fitted:hover {\n",
       "  /* fitted */\n",
       "  background-color: var(--sklearn-color-fitted-level-3);\n",
       "  color: var(--sklearn-color-background);\n",
       "  text-decoration: none;\n",
       "}\n",
       "\n",
       "/* Span, style for the box shown on hovering the info icon */\n",
       ".sk-estimator-doc-link span {\n",
       "  display: none;\n",
       "  z-index: 9999;\n",
       "  position: relative;\n",
       "  font-weight: normal;\n",
       "  right: .2ex;\n",
       "  padding: .5ex;\n",
       "  margin: .5ex;\n",
       "  width: min-content;\n",
       "  min-width: 20ex;\n",
       "  max-width: 50ex;\n",
       "  color: var(--sklearn-color-text);\n",
       "  box-shadow: 2pt 2pt 4pt #999;\n",
       "  /* unfitted */\n",
       "  background: var(--sklearn-color-unfitted-level-0);\n",
       "  border: .5pt solid var(--sklearn-color-unfitted-level-3);\n",
       "}\n",
       "\n",
       ".sk-estimator-doc-link.fitted span {\n",
       "  /* fitted */\n",
       "  background: var(--sklearn-color-fitted-level-0);\n",
       "  border: var(--sklearn-color-fitted-level-3);\n",
       "}\n",
       "\n",
       ".sk-estimator-doc-link:hover span {\n",
       "  display: block;\n",
       "}\n",
       "\n",
       "/* \"?\"-specific style due to the `<a>` HTML tag */\n",
       "\n",
       "#sk-container-id-1 a.estimator_doc_link {\n",
       "  float: right;\n",
       "  font-size: 1rem;\n",
       "  line-height: 1em;\n",
       "  font-family: monospace;\n",
       "  background-color: var(--sklearn-color-background);\n",
       "  border-radius: 1rem;\n",
       "  height: 1rem;\n",
       "  width: 1rem;\n",
       "  text-decoration: none;\n",
       "  /* unfitted */\n",
       "  color: var(--sklearn-color-unfitted-level-1);\n",
       "  border: var(--sklearn-color-unfitted-level-1) 1pt solid;\n",
       "}\n",
       "\n",
       "#sk-container-id-1 a.estimator_doc_link.fitted {\n",
       "  /* fitted */\n",
       "  border: var(--sklearn-color-fitted-level-1) 1pt solid;\n",
       "  color: var(--sklearn-color-fitted-level-1);\n",
       "}\n",
       "\n",
       "/* On hover */\n",
       "#sk-container-id-1 a.estimator_doc_link:hover {\n",
       "  /* unfitted */\n",
       "  background-color: var(--sklearn-color-unfitted-level-3);\n",
       "  color: var(--sklearn-color-background);\n",
       "  text-decoration: none;\n",
       "}\n",
       "\n",
       "#sk-container-id-1 a.estimator_doc_link.fitted:hover {\n",
       "  /* fitted */\n",
       "  background-color: var(--sklearn-color-fitted-level-3);\n",
       "}\n",
       "</style><div id=\"sk-container-id-1\" class=\"sk-top-container\"><div class=\"sk-text-repr-fallback\"><pre>GaussianNB()</pre><b>In a Jupyter environment, please rerun this cell to show the HTML representation or trust the notebook. <br />On GitHub, the HTML representation is unable to render, please try loading this page with nbviewer.org.</b></div><div class=\"sk-container\" hidden><div class=\"sk-item\"><div class=\"sk-estimator fitted sk-toggleable\"><input class=\"sk-toggleable__control sk-hidden--visually\" id=\"sk-estimator-id-1\" type=\"checkbox\" checked><label for=\"sk-estimator-id-1\" class=\"sk-toggleable__label fitted sk-toggleable__label-arrow fitted\">&nbsp;&nbsp;GaussianNB<a class=\"sk-estimator-doc-link fitted\" rel=\"noreferrer\" target=\"_blank\" href=\"https://scikit-learn.org/1.5/modules/generated/sklearn.naive_bayes.GaussianNB.html\">?<span>Documentation for GaussianNB</span></a><span class=\"sk-estimator-doc-link fitted\">i<span>Fitted</span></span></label><div class=\"sk-toggleable__content fitted\"><pre>GaussianNB()</pre></div> </div></div></div></div>"
      ],
      "text/plain": [
       "GaussianNB()"
      ]
     },
     "execution_count": 3,
     "metadata": {},
     "output_type": "execute_result"
    }
   ],
   "source": [
    "from sklearn.datasets import load_iris\n",
    "from sklearn.naive_bayes import GaussianNB\n",
    "from sklearn.linear_model import LogisticRegression\n",
    "from sklearn.tree import DecisionTreeClassifier\n",
    "data = load_iris()\n",
    "X_train, X_test, y_train, y_test = train_test_split(data.data, data.target, test_size=0.3, random_state=42)\n",
    "gnb = GaussianNB()\n",
    "gnb.fit(X_train, y_train)"
   ]
  },
  {
   "cell_type": "code",
   "execution_count": 4,
   "id": "c75e0331",
   "metadata": {},
   "outputs": [],
   "source": [
    "acc_gnb = accuracy_score(y_test, gnb.predict(X_test))\n",
    "lr = LogisticRegression()\n",
    "lr.fit(X_train, y_train)\n",
    "acc_lr = accuracy_score(y_test, lr.predict(X_test))"
   ]
  },
  {
   "cell_type": "code",
   "execution_count": 5,
   "id": "8af99245",
   "metadata": {},
   "outputs": [],
   "source": [
    "dt = DecisionTreeClassifier()\n",
    "dt.fit(X_train, y_train)\n",
    "acc_dt = accuracy_score(y_test, dt.predict(X_test))"
   ]
  },
  {
   "cell_type": "code",
   "execution_count": 6,
   "id": "e9677a43",
   "metadata": {},
   "outputs": [
    {
     "name": "stdout",
     "output_type": "stream",
     "text": [
      "GaussianNB Accuracy: 0.98\n",
      "Logistic Regression Accuracy: 1.00\n",
      "Decision Tree Accuracy: 1.00\n"
     ]
    }
   ],
   "source": [
    "print(f\"GaussianNB Accuracy: {acc_gnb:.2f}\")\n",
    "print(f\"Logistic Regression Accuracy: {acc_lr:.2f}\")\n",
    "print(f\"Decision Tree Accuracy: {acc_dt:.2f}\")"
   ]
  },
  {
   "cell_type": "markdown",
   "id": "fd9298b1",
   "metadata": {},
   "source": [
    "# Part II: Decision Trees"
   ]
  },
  {
   "cell_type": "markdown",
   "id": "805d7599",
   "metadata": {},
   "source": [
    "# Task 4: Theory written as comments\n",
    " 1. Entropy measures impurity; Information Gain is the reduction in entropy after a split.\n",
    " 2. Gini is faster, entropy more informative.\n",
    " 3. Overfitting happens when the tree is too deep; use pruning, depth limit, or min samples per split."
   ]
  },
  {
   "cell_type": "code",
   "execution_count": 7,
   "id": "208d3c45",
   "metadata": {},
   "outputs": [],
   "source": [
    "import seaborn as sns\n",
    "from sklearn.tree import DecisionTreeClassifier, plot_tree\n",
    "from sklearn.preprocessing import LabelEncoder\n",
    "import matplotlib.pyplot as plt"
   ]
  },
  {
   "cell_type": "code",
   "execution_count": 8,
   "id": "0040173d",
   "metadata": {},
   "outputs": [],
   "source": [
    "df = sns.load_dataset('titanic')\n",
    "df.dropna(subset=['age', 'embarked', 'sex'], inplace=True)\n",
    "df = df[['survived', 'pclass', 'sex', 'age', 'fare', 'embarked']]\n",
    "df['sex'] = LabelEncoder().fit_transform(df['sex'])\n",
    "df['embarked'] = LabelEncoder().fit_transform(df['embarked'])\n",
    "X = df.drop('survived', axis=1)\n",
    "y = df['survived']"
   ]
  },
  {
   "cell_type": "code",
   "execution_count": 9,
   "id": "a918dfa2",
   "metadata": {},
   "outputs": [],
   "source": [
    "X_train, X_test, y_train, y_test = train_test_split(X, y, test_size=0.3, random_state=42)\n",
    "clf = DecisionTreeClassifier(random_state=42)\n",
    "clf.fit(X_train, y_train)\n",
    "y_pred = clf.predict(X_test)"
   ]
  },
  {
   "cell_type": "code",
   "execution_count": 10,
   "id": "89d1d4c1",
   "metadata": {},
   "outputs": [
    {
     "name": "stdout",
     "output_type": "stream",
     "text": [
      "Accuracy: 0.6915887850467289\n",
      "Confusion Matrix:\n",
      " [[93 29]\n",
      " [37 55]]\n"
     ]
    }
   ],
   "source": [
    "print(\"Accuracy:\", accuracy_score(y_test, y_pred))\n",
    "print(\"Confusion Matrix:\\n\", confusion_matrix(y_test, y_pred))"
   ]
  },
  {
   "cell_type": "code",
   "execution_count": 11,
   "id": "500ce00e",
   "metadata": {},
   "outputs": [
    {
     "data": {
      "text/plain": [
       "<Figure size 1500x600 with 0 Axes>"
      ]
     },
     "execution_count": 11,
     "metadata": {},
     "output_type": "execute_result"
    },
    {
     "data": {
      "text/plain": [
       "<Figure size 1500x600 with 0 Axes>"
      ]
     },
     "metadata": {},
     "output_type": "display_data"
    }
   ],
   "source": [
    "plt.figure(figsize=(15, 6))"
   ]
  },
  {
   "cell_type": "code",
   "execution_count": 12,
   "id": "886791d9",
   "metadata": {},
   "outputs": [
    {
     "data": {
      "text/plain": [
       "[Text(0.45233497191011235, 0.9722222222222222, 'sex <= 0.5\\ngini = 0.477\\nsamples = 498\\nvalue = [302, 196]\\nclass = Died'),\n",
       " Text(0.22401685393258428, 0.9166666666666666, 'pclass <= 2.5\\ngini = 0.372\\nsamples = 182\\nvalue = [45, 137]\\nclass = Survived'),\n",
       " Text(0.3381759129213483, 0.9444444444444444, 'True  '),\n",
       " Text(0.11235955056179775, 0.8611111111111112, 'age <= 56.5\\ngini = 0.088\\nsamples = 109\\nvalue = [5, 104]\\nclass = Survived'),\n",
       " Text(0.10112359550561797, 0.8055555555555556, 'fare <= 29.356\\ngini = 0.071\\nsamples = 108\\nvalue = [4, 104]\\nclass = Survived'),\n",
       " Text(0.0898876404494382, 0.75, 'fare <= 28.231\\ngini = 0.15\\nsamples = 49\\nvalue = [4.0, 45.0]\\nclass = Survived'),\n",
       " Text(0.07865168539325842, 0.6944444444444444, 'fare <= 22.0\\ngini = 0.117\\nsamples = 48\\nvalue = [3, 45]\\nclass = Survived'),\n",
       " Text(0.06741573033707865, 0.6388888888888888, 'age <= 27.5\\ngini = 0.18\\nsamples = 30\\nvalue = [3, 27]\\nclass = Survived'),\n",
       " Text(0.0449438202247191, 0.5833333333333334, 'fare <= 20.25\\ngini = 0.346\\nsamples = 9\\nvalue = [2, 7]\\nclass = Survived'),\n",
       " Text(0.033707865168539325, 0.5277777777777778, 'fare <= 13.396\\ngini = 0.219\\nsamples = 8\\nvalue = [1, 7]\\nclass = Survived'),\n",
       " Text(0.02247191011235955, 0.4722222222222222, 'age <= 25.5\\ngini = 0.444\\nsamples = 3\\nvalue = [1, 2]\\nclass = Survived'),\n",
       " Text(0.011235955056179775, 0.4166666666666667, 'gini = 0.5\\nsamples = 2\\nvalue = [1, 1]\\nclass = Died'),\n",
       " Text(0.033707865168539325, 0.4166666666666667, 'gini = 0.0\\nsamples = 1\\nvalue = [0, 1]\\nclass = Survived'),\n",
       " Text(0.0449438202247191, 0.4722222222222222, 'gini = 0.0\\nsamples = 5\\nvalue = [0, 5]\\nclass = Survived'),\n",
       " Text(0.056179775280898875, 0.5277777777777778, 'gini = 0.0\\nsamples = 1\\nvalue = [1, 0]\\nclass = Died'),\n",
       " Text(0.0898876404494382, 0.5833333333333334, 'age <= 37.0\\ngini = 0.091\\nsamples = 21\\nvalue = [1, 20]\\nclass = Survived'),\n",
       " Text(0.07865168539325842, 0.5277777777777778, 'gini = 0.0\\nsamples = 13\\nvalue = [0, 13]\\nclass = Survived'),\n",
       " Text(0.10112359550561797, 0.5277777777777778, 'age <= 39.0\\ngini = 0.219\\nsamples = 8\\nvalue = [1, 7]\\nclass = Survived'),\n",
       " Text(0.0898876404494382, 0.4722222222222222, 'gini = 0.0\\nsamples = 1\\nvalue = [1, 0]\\nclass = Died'),\n",
       " Text(0.11235955056179775, 0.4722222222222222, 'gini = 0.0\\nsamples = 7\\nvalue = [0, 7]\\nclass = Survived'),\n",
       " Text(0.0898876404494382, 0.6388888888888888, 'gini = 0.0\\nsamples = 18\\nvalue = [0, 18]\\nclass = Survived'),\n",
       " Text(0.10112359550561797, 0.6944444444444444, 'gini = 0.0\\nsamples = 1\\nvalue = [1, 0]\\nclass = Died'),\n",
       " Text(0.11235955056179775, 0.75, 'gini = 0.0\\nsamples = 59\\nvalue = [0, 59]\\nclass = Survived'),\n",
       " Text(0.12359550561797752, 0.8055555555555556, 'gini = 0.0\\nsamples = 1\\nvalue = [1, 0]\\nclass = Died'),\n",
       " Text(0.3356741573033708, 0.8611111111111112, 'fare <= 20.8\\ngini = 0.495\\nsamples = 73\\nvalue = [40, 33]\\nclass = Died'),\n",
       " Text(0.27808988764044945, 0.8055555555555556, 'fare <= 14.873\\ngini = 0.496\\nsamples = 55\\nvalue = [25.0, 30.0]\\nclass = Survived'),\n",
       " Text(0.2303370786516854, 0.75, 'age <= 19.5\\ngini = 0.495\\nsamples = 42\\nvalue = [23.0, 19.0]\\nclass = Died'),\n",
       " Text(0.16853932584269662, 0.6944444444444444, 'embarked <= 0.5\\ngini = 0.475\\nsamples = 18\\nvalue = [7, 11]\\nclass = Survived'),\n",
       " Text(0.14606741573033707, 0.6388888888888888, 'age <= 16.0\\ngini = 0.375\\nsamples = 4\\nvalue = [3, 1]\\nclass = Died'),\n",
       " Text(0.1348314606741573, 0.5833333333333334, 'age <= 14.75\\ngini = 0.5\\nsamples = 2\\nvalue = [1, 1]\\nclass = Died'),\n",
       " Text(0.12359550561797752, 0.5277777777777778, 'gini = 0.0\\nsamples = 1\\nvalue = [1, 0]\\nclass = Died'),\n",
       " Text(0.14606741573033707, 0.5277777777777778, 'gini = 0.0\\nsamples = 1\\nvalue = [0, 1]\\nclass = Survived'),\n",
       " Text(0.15730337078651685, 0.5833333333333334, 'gini = 0.0\\nsamples = 2\\nvalue = [2, 0]\\nclass = Died'),\n",
       " Text(0.19101123595505617, 0.6388888888888888, 'fare <= 7.123\\ngini = 0.408\\nsamples = 14\\nvalue = [4, 10]\\nclass = Survived'),\n",
       " Text(0.1797752808988764, 0.5833333333333334, 'gini = 0.0\\nsamples = 1\\nvalue = [1, 0]\\nclass = Died'),\n",
       " Text(0.20224719101123595, 0.5833333333333334, 'age <= 14.5\\ngini = 0.355\\nsamples = 13\\nvalue = [3, 10]\\nclass = Survived'),\n",
       " Text(0.1797752808988764, 0.5277777777777778, 'fare <= 10.798\\ngini = 0.5\\nsamples = 4\\nvalue = [2, 2]\\nclass = Died'),\n",
       " Text(0.16853932584269662, 0.4722222222222222, 'gini = 0.0\\nsamples = 2\\nvalue = [2, 0]\\nclass = Died'),\n",
       " Text(0.19101123595505617, 0.4722222222222222, 'gini = 0.0\\nsamples = 2\\nvalue = [0, 2]\\nclass = Survived'),\n",
       " Text(0.2247191011235955, 0.5277777777777778, 'fare <= 7.815\\ngini = 0.198\\nsamples = 9\\nvalue = [1, 8]\\nclass = Survived'),\n",
       " Text(0.21348314606741572, 0.4722222222222222, 'fare <= 7.754\\ngini = 0.444\\nsamples = 3\\nvalue = [1, 2]\\nclass = Survived'),\n",
       " Text(0.20224719101123595, 0.4166666666666667, 'gini = 0.0\\nsamples = 2\\nvalue = [0, 2]\\nclass = Survived'),\n",
       " Text(0.2247191011235955, 0.4166666666666667, 'gini = 0.0\\nsamples = 1\\nvalue = [1, 0]\\nclass = Died'),\n",
       " Text(0.23595505617977527, 0.4722222222222222, 'gini = 0.0\\nsamples = 6\\nvalue = [0, 6]\\nclass = Survived'),\n",
       " Text(0.29213483146067415, 0.6944444444444444, 'age <= 55.0\\ngini = 0.444\\nsamples = 24\\nvalue = [16, 8]\\nclass = Died'),\n",
       " Text(0.2808988764044944, 0.6388888888888888, 'fare <= 7.763\\ngini = 0.423\\nsamples = 23\\nvalue = [16, 7]\\nclass = Died'),\n",
       " Text(0.25842696629213485, 0.5833333333333334, 'age <= 26.75\\ngini = 0.48\\nsamples = 5\\nvalue = [2, 3]\\nclass = Survived'),\n",
       " Text(0.24719101123595505, 0.5277777777777778, 'gini = 0.0\\nsamples = 3\\nvalue = [0, 3]\\nclass = Survived'),\n",
       " Text(0.2696629213483146, 0.5277777777777778, 'gini = 0.0\\nsamples = 2\\nvalue = [2, 0]\\nclass = Died'),\n",
       " Text(0.30337078651685395, 0.5833333333333334, 'age <= 25.5\\ngini = 0.346\\nsamples = 18\\nvalue = [14, 4]\\nclass = Died'),\n",
       " Text(0.29213483146067415, 0.5277777777777778, 'gini = 0.0\\nsamples = 8\\nvalue = [8, 0]\\nclass = Died'),\n",
       " Text(0.3146067415730337, 0.5277777777777778, 'age <= 27.5\\ngini = 0.48\\nsamples = 10\\nvalue = [6, 4]\\nclass = Died'),\n",
       " Text(0.30337078651685395, 0.4722222222222222, 'gini = 0.0\\nsamples = 2\\nvalue = [0, 2]\\nclass = Survived'),\n",
       " Text(0.3258426966292135, 0.4722222222222222, 'fare <= 8.673\\ngini = 0.375\\nsamples = 8\\nvalue = [6, 2]\\nclass = Died'),\n",
       " Text(0.3146067415730337, 0.4166666666666667, 'gini = 0.0\\nsamples = 2\\nvalue = [2, 0]\\nclass = Died'),\n",
       " Text(0.33707865168539325, 0.4166666666666667, 'fare <= 9.135\\ngini = 0.444\\nsamples = 6\\nvalue = [4, 2]\\nclass = Died'),\n",
       " Text(0.3258426966292135, 0.3611111111111111, 'gini = 0.0\\nsamples = 1\\nvalue = [0, 1]\\nclass = Survived'),\n",
       " Text(0.34831460674157305, 0.3611111111111111, 'age <= 29.5\\ngini = 0.32\\nsamples = 5\\nvalue = [4, 1]\\nclass = Died'),\n",
       " Text(0.33707865168539325, 0.3055555555555556, 'gini = 0.0\\nsamples = 2\\nvalue = [2, 0]\\nclass = Died'),\n",
       " Text(0.3595505617977528, 0.3055555555555556, 'age <= 33.5\\ngini = 0.444\\nsamples = 3\\nvalue = [2, 1]\\nclass = Died'),\n",
       " Text(0.34831460674157305, 0.25, 'gini = 0.0\\nsamples = 1\\nvalue = [0, 1]\\nclass = Survived'),\n",
       " Text(0.3707865168539326, 0.25, 'gini = 0.0\\nsamples = 2\\nvalue = [2, 0]\\nclass = Died'),\n",
       " Text(0.30337078651685395, 0.6388888888888888, 'gini = 0.0\\nsamples = 1\\nvalue = [0, 1]\\nclass = Survived'),\n",
       " Text(0.3258426966292135, 0.75, 'fare <= 17.6\\ngini = 0.26\\nsamples = 13\\nvalue = [2, 11]\\nclass = Survived'),\n",
       " Text(0.3146067415730337, 0.6944444444444444, 'gini = 0.0\\nsamples = 7\\nvalue = [0, 7]\\nclass = Survived'),\n",
       " Text(0.33707865168539325, 0.6944444444444444, 'fare <= 18.629\\ngini = 0.444\\nsamples = 6\\nvalue = [2, 4]\\nclass = Survived'),\n",
       " Text(0.3258426966292135, 0.6388888888888888, 'gini = 0.0\\nsamples = 2\\nvalue = [2, 0]\\nclass = Died'),\n",
       " Text(0.34831460674157305, 0.6388888888888888, 'gini = 0.0\\nsamples = 4\\nvalue = [0, 4]\\nclass = Survived'),\n",
       " Text(0.39325842696629215, 0.8055555555555556, 'age <= 5.5\\ngini = 0.278\\nsamples = 18\\nvalue = [15, 3]\\nclass = Died'),\n",
       " Text(0.3707865168539326, 0.75, 'age <= 3.5\\ngini = 0.5\\nsamples = 4\\nvalue = [2, 2]\\nclass = Died'),\n",
       " Text(0.3595505617977528, 0.6944444444444444, 'gini = 0.0\\nsamples = 2\\nvalue = [2, 0]\\nclass = Died'),\n",
       " Text(0.38202247191011235, 0.6944444444444444, 'gini = 0.0\\nsamples = 2\\nvalue = [0, 2]\\nclass = Survived'),\n",
       " Text(0.4157303370786517, 0.75, 'age <= 34.0\\ngini = 0.133\\nsamples = 14\\nvalue = [13, 1]\\nclass = Died'),\n",
       " Text(0.4044943820224719, 0.6944444444444444, 'gini = 0.0\\nsamples = 10\\nvalue = [10, 0]\\nclass = Died'),\n",
       " Text(0.42696629213483145, 0.6944444444444444, 'age <= 38.5\\ngini = 0.375\\nsamples = 4\\nvalue = [3, 1]\\nclass = Died'),\n",
       " Text(0.4157303370786517, 0.6388888888888888, 'gini = 0.0\\nsamples = 1\\nvalue = [0, 1]\\nclass = Survived'),\n",
       " Text(0.43820224719101125, 0.6388888888888888, 'gini = 0.0\\nsamples = 3\\nvalue = [3, 0]\\nclass = Died'),\n",
       " Text(0.6806530898876404, 0.9166666666666666, 'pclass <= 1.5\\ngini = 0.304\\nsamples = 316\\nvalue = [257, 59]\\nclass = Died'),\n",
       " Text(0.5664940308988764, 0.9444444444444444, '  False'),\n",
       " Text(0.5800561797752809, 0.8611111111111112, 'age <= 53.0\\ngini = 0.49\\nsamples = 72\\nvalue = [41, 31]\\nclass = Died'),\n",
       " Text(0.5084269662921348, 0.8055555555555556, 'fare <= 15.644\\ngini = 0.498\\nsamples = 53\\nvalue = [25, 28]\\nclass = Survived'),\n",
       " Text(0.49719101123595505, 0.75, 'gini = 0.0\\nsamples = 3\\nvalue = [3, 0]\\nclass = Died'),\n",
       " Text(0.5196629213483146, 0.75, 'fare <= 27.15\\ngini = 0.493\\nsamples = 50\\nvalue = [22.0, 28.0]\\nclass = Survived'),\n",
       " Text(0.47191011235955055, 0.6944444444444444, 'age <= 43.5\\ngini = 0.165\\nsamples = 11\\nvalue = [1, 10]\\nclass = Survived'),\n",
       " Text(0.4606741573033708, 0.6388888888888888, 'gini = 0.0\\nsamples = 7\\nvalue = [0, 7]\\nclass = Survived'),\n",
       " Text(0.48314606741573035, 0.6388888888888888, 'age <= 46.5\\ngini = 0.375\\nsamples = 4\\nvalue = [1, 3]\\nclass = Survived'),\n",
       " Text(0.47191011235955055, 0.5833333333333334, 'gini = 0.5\\nsamples = 2\\nvalue = [1, 1]\\nclass = Died'),\n",
       " Text(0.4943820224719101, 0.5833333333333334, 'gini = 0.0\\nsamples = 2\\nvalue = [0, 2]\\nclass = Survived'),\n",
       " Text(0.5674157303370787, 0.6944444444444444, 'age <= 47.0\\ngini = 0.497\\nsamples = 39\\nvalue = [21, 18]\\nclass = Died'),\n",
       " Text(0.5393258426966292, 0.6388888888888888, 'age <= 27.5\\ngini = 0.482\\nsamples = 32\\nvalue = [19, 13]\\nclass = Died'),\n",
       " Text(0.5168539325842697, 0.5833333333333334, 'age <= 22.5\\ngini = 0.463\\nsamples = 11\\nvalue = [4, 7]\\nclass = Survived'),\n",
       " Text(0.5056179775280899, 0.5277777777777778, 'age <= 9.46\\ngini = 0.32\\nsamples = 5\\nvalue = [4, 1]\\nclass = Died'),\n",
       " Text(0.4943820224719101, 0.4722222222222222, 'gini = 0.0\\nsamples = 1\\nvalue = [0, 1]\\nclass = Survived'),\n",
       " Text(0.5168539325842697, 0.4722222222222222, 'gini = 0.0\\nsamples = 4\\nvalue = [4, 0]\\nclass = Died'),\n",
       " Text(0.5280898876404494, 0.5277777777777778, 'gini = 0.0\\nsamples = 6\\nvalue = [0, 6]\\nclass = Survived'),\n",
       " Text(0.5617977528089888, 0.5833333333333334, 'fare <= 30.25\\ngini = 0.408\\nsamples = 21\\nvalue = [15, 6]\\nclass = Died'),\n",
       " Text(0.550561797752809, 0.5277777777777778, 'gini = 0.0\\nsamples = 3\\nvalue = [3, 0]\\nclass = Died'),\n",
       " Text(0.5730337078651685, 0.5277777777777778, 'fare <= 33.25\\ngini = 0.444\\nsamples = 18\\nvalue = [12, 6]\\nclass = Died'),\n",
       " Text(0.5617977528089888, 0.4722222222222222, 'gini = 0.0\\nsamples = 2\\nvalue = [0, 2]\\nclass = Survived'),\n",
       " Text(0.5842696629213483, 0.4722222222222222, 'embarked <= 1.0\\ngini = 0.375\\nsamples = 16\\nvalue = [12, 4]\\nclass = Died'),\n",
       " Text(0.5730337078651685, 0.4166666666666667, 'gini = 0.0\\nsamples = 3\\nvalue = [3, 0]\\nclass = Died'),\n",
       " Text(0.5955056179775281, 0.4166666666666667, 'age <= 43.5\\ngini = 0.426\\nsamples = 13\\nvalue = [9, 4]\\nclass = Died'),\n",
       " Text(0.5842696629213483, 0.3611111111111111, 'fare <= 41.3\\ngini = 0.463\\nsamples = 11\\nvalue = [7, 4]\\nclass = Died'),\n",
       " Text(0.5730337078651685, 0.3055555555555556, 'gini = 0.0\\nsamples = 1\\nvalue = [0, 1]\\nclass = Survived'),\n",
       " Text(0.5955056179775281, 0.3055555555555556, 'fare <= 52.277\\ngini = 0.42\\nsamples = 10\\nvalue = [7, 3]\\nclass = Died'),\n",
       " Text(0.5842696629213483, 0.25, 'gini = 0.0\\nsamples = 4\\nvalue = [4, 0]\\nclass = Died'),\n",
       " Text(0.6067415730337079, 0.25, 'fare <= 61.8\\ngini = 0.5\\nsamples = 6\\nvalue = [3, 3]\\nclass = Died'),\n",
       " Text(0.5955056179775281, 0.19444444444444445, 'gini = 0.0\\nsamples = 2\\nvalue = [0, 2]\\nclass = Survived'),\n",
       " Text(0.6179775280898876, 0.19444444444444445, 'age <= 37.0\\ngini = 0.375\\nsamples = 4\\nvalue = [3, 1]\\nclass = Died'),\n",
       " Text(0.6067415730337079, 0.1388888888888889, 'gini = 0.0\\nsamples = 2\\nvalue = [2, 0]\\nclass = Died'),\n",
       " Text(0.6292134831460674, 0.1388888888888889, 'fare <= 121.731\\ngini = 0.5\\nsamples = 2\\nvalue = [1, 1]\\nclass = Died'),\n",
       " Text(0.6179775280898876, 0.08333333333333333, 'gini = 0.0\\nsamples = 1\\nvalue = [0, 1]\\nclass = Survived'),\n",
       " Text(0.6404494382022472, 0.08333333333333333, 'gini = 0.0\\nsamples = 1\\nvalue = [1, 0]\\nclass = Died'),\n",
       " Text(0.6067415730337079, 0.3611111111111111, 'gini = 0.0\\nsamples = 2\\nvalue = [2, 0]\\nclass = Died'),\n",
       " Text(0.5955056179775281, 0.6388888888888888, 'fare <= 59.154\\ngini = 0.408\\nsamples = 7\\nvalue = [2, 5]\\nclass = Survived'),\n",
       " Text(0.5842696629213483, 0.5833333333333334, 'gini = 0.0\\nsamples = 3\\nvalue = [0, 3]\\nclass = Survived'),\n",
       " Text(0.6067415730337079, 0.5833333333333334, 'age <= 49.0\\ngini = 0.5\\nsamples = 4\\nvalue = [2, 2]\\nclass = Died'),\n",
       " Text(0.5955056179775281, 0.5277777777777778, 'gini = 0.0\\nsamples = 1\\nvalue = [0, 1]\\nclass = Survived'),\n",
       " Text(0.6179775280898876, 0.5277777777777778, 'fare <= 120.037\\ngini = 0.444\\nsamples = 3\\nvalue = [2, 1]\\nclass = Died'),\n",
       " Text(0.6067415730337079, 0.4722222222222222, 'gini = 0.0\\nsamples = 2\\nvalue = [2, 0]\\nclass = Died'),\n",
       " Text(0.6292134831460674, 0.4722222222222222, 'gini = 0.0\\nsamples = 1\\nvalue = [0, 1]\\nclass = Survived'),\n",
       " Text(0.651685393258427, 0.8055555555555556, 'age <= 75.5\\ngini = 0.266\\nsamples = 19\\nvalue = [16, 3]\\nclass = Died'),\n",
       " Text(0.6404494382022472, 0.75, 'fare <= 35.077\\ngini = 0.198\\nsamples = 18\\nvalue = [16, 2]\\nclass = Died'),\n",
       " Text(0.6292134831460674, 0.6944444444444444, 'gini = 0.0\\nsamples = 11\\nvalue = [11, 0]\\nclass = Died'),\n",
       " Text(0.651685393258427, 0.6944444444444444, 'age <= 62.0\\ngini = 0.408\\nsamples = 7\\nvalue = [5, 2]\\nclass = Died'),\n",
       " Text(0.6404494382022472, 0.6388888888888888, 'embarked <= 1.0\\ngini = 0.444\\nsamples = 3\\nvalue = [1, 2]\\nclass = Survived'),\n",
       " Text(0.6292134831460674, 0.5833333333333334, 'gini = 0.0\\nsamples = 2\\nvalue = [0, 2]\\nclass = Survived'),\n",
       " Text(0.651685393258427, 0.5833333333333334, 'gini = 0.0\\nsamples = 1\\nvalue = [1, 0]\\nclass = Died'),\n",
       " Text(0.6629213483146067, 0.6388888888888888, 'gini = 0.0\\nsamples = 4\\nvalue = [4, 0]\\nclass = Died'),\n",
       " Text(0.6629213483146067, 0.75, 'gini = 0.0\\nsamples = 1\\nvalue = [0, 1]\\nclass = Survived'),\n",
       " Text(0.78125, 0.8611111111111112, 'age <= 13.0\\ngini = 0.203\\nsamples = 244\\nvalue = [216, 28]\\nclass = Died'),\n",
       " Text(0.7205056179775281, 0.8055555555555556, 'fare <= 26.95\\ngini = 0.5\\nsamples = 22\\nvalue = [11, 11]\\nclass = Died'),\n",
       " Text(0.7092696629213483, 0.75, 'gini = 0.0\\nsamples = 9\\nvalue = [0, 9]\\nclass = Survived'),\n",
       " Text(0.7317415730337079, 0.75, 'pclass <= 2.5\\ngini = 0.26\\nsamples = 13\\nvalue = [11, 2]\\nclass = Died'),\n",
       " Text(0.7205056179775281, 0.6944444444444444, 'gini = 0.0\\nsamples = 2\\nvalue = [0, 2]\\nclass = Survived'),\n",
       " Text(0.7429775280898876, 0.6944444444444444, 'gini = 0.0\\nsamples = 11\\nvalue = [11, 0]\\nclass = Died'),\n",
       " Text(0.8419943820224719, 0.8055555555555556, 'fare <= 11.0\\ngini = 0.141\\nsamples = 222\\nvalue = [205, 17]\\nclass = Died'),\n",
       " Text(0.776685393258427, 0.75, 'age <= 17.5\\ngini = 0.189\\nsamples = 151\\nvalue = [135, 16]\\nclass = Died'),\n",
       " Text(0.7654494382022472, 0.6944444444444444, 'gini = 0.0\\nsamples = 10\\nvalue = [10, 0]\\nclass = Died'),\n",
       " Text(0.7879213483146067, 0.6944444444444444, 'age <= 27.5\\ngini = 0.201\\nsamples = 141\\nvalue = [125.0, 16.0]\\nclass = Died'),\n",
       " Text(0.7134831460674157, 0.6388888888888888, 'age <= 26.5\\ngini = 0.257\\nsamples = 66\\nvalue = [56, 10]\\nclass = Died'),\n",
       " Text(0.702247191011236, 0.5833333333333334, 'fare <= 2.006\\ngini = 0.198\\nsamples = 63\\nvalue = [56, 7]\\nclass = Died'),\n",
       " Text(0.6629213483146067, 0.5277777777777778, 'age <= 22.0\\ngini = 0.5\\nsamples = 2\\nvalue = [1, 1]\\nclass = Died'),\n",
       " Text(0.651685393258427, 0.4722222222222222, 'gini = 0.0\\nsamples = 1\\nvalue = [1, 0]\\nclass = Died'),\n",
       " Text(0.6741573033707865, 0.4722222222222222, 'gini = 0.0\\nsamples = 1\\nvalue = [0, 1]\\nclass = Survived'),\n",
       " Text(0.7415730337078652, 0.5277777777777778, 'fare <= 7.798\\ngini = 0.177\\nsamples = 61\\nvalue = [55, 6]\\nclass = Died'),\n",
       " Text(0.6966292134831461, 0.4722222222222222, 'age <= 20.5\\ngini = 0.26\\nsamples = 26\\nvalue = [22, 4]\\nclass = Died'),\n",
       " Text(0.6853932584269663, 0.4166666666666667, 'gini = 0.0\\nsamples = 8\\nvalue = [8, 0]\\nclass = Died'),\n",
       " Text(0.7078651685393258, 0.4166666666666667, 'fare <= 7.133\\ngini = 0.346\\nsamples = 18\\nvalue = [14, 4]\\nclass = Died'),\n",
       " Text(0.6966292134831461, 0.3611111111111111, 'gini = 0.0\\nsamples = 4\\nvalue = [4, 0]\\nclass = Died'),\n",
       " Text(0.7191011235955056, 0.3611111111111111, 'fare <= 7.227\\ngini = 0.408\\nsamples = 14\\nvalue = [10, 4]\\nclass = Died'),\n",
       " Text(0.6966292134831461, 0.3055555555555556, 'age <= 24.5\\ngini = 0.444\\nsamples = 3\\nvalue = [1, 2]\\nclass = Survived'),\n",
       " Text(0.6853932584269663, 0.25, 'gini = 0.0\\nsamples = 2\\nvalue = [0, 2]\\nclass = Survived'),\n",
       " Text(0.7078651685393258, 0.25, 'gini = 0.0\\nsamples = 1\\nvalue = [1, 0]\\nclass = Died'),\n",
       " Text(0.7415730337078652, 0.3055555555555556, 'fare <= 7.713\\ngini = 0.298\\nsamples = 11\\nvalue = [9, 2]\\nclass = Died'),\n",
       " Text(0.7303370786516854, 0.25, 'gini = 0.0\\nsamples = 6\\nvalue = [6, 0]\\nclass = Died'),\n",
       " Text(0.7528089887640449, 0.25, 'age <= 25.5\\ngini = 0.48\\nsamples = 5\\nvalue = [3, 2]\\nclass = Died'),\n",
       " Text(0.7415730337078652, 0.19444444444444445, 'age <= 23.5\\ngini = 0.5\\nsamples = 4\\nvalue = [2, 2]\\nclass = Died'),\n",
       " Text(0.7303370786516854, 0.1388888888888889, 'fare <= 7.785\\ngini = 0.444\\nsamples = 3\\nvalue = [2, 1]\\nclass = Died'),\n",
       " Text(0.7191011235955056, 0.08333333333333333, 'gini = 0.0\\nsamples = 1\\nvalue = [1, 0]\\nclass = Died'),\n",
       " Text(0.7415730337078652, 0.08333333333333333, 'age <= 21.5\\ngini = 0.5\\nsamples = 2\\nvalue = [1, 1]\\nclass = Died'),\n",
       " Text(0.7303370786516854, 0.027777777777777776, 'gini = 0.0\\nsamples = 1\\nvalue = [0, 1]\\nclass = Survived'),\n",
       " Text(0.7528089887640449, 0.027777777777777776, 'gini = 0.0\\nsamples = 1\\nvalue = [1, 0]\\nclass = Died'),\n",
       " Text(0.7528089887640449, 0.1388888888888889, 'gini = 0.0\\nsamples = 1\\nvalue = [0, 1]\\nclass = Survived'),\n",
       " Text(0.7640449438202247, 0.19444444444444445, 'gini = 0.0\\nsamples = 1\\nvalue = [1, 0]\\nclass = Died'),\n",
       " Text(0.7865168539325843, 0.4722222222222222, 'age <= 18.5\\ngini = 0.108\\nsamples = 35\\nvalue = [33, 2]\\nclass = Died'),\n",
       " Text(0.7640449438202247, 0.4166666666666667, 'fare <= 8.175\\ngini = 0.5\\nsamples = 2\\nvalue = [1, 1]\\nclass = Died'),\n",
       " Text(0.7528089887640449, 0.3611111111111111, 'gini = 0.0\\nsamples = 1\\nvalue = [0, 1]\\nclass = Survived'),\n",
       " Text(0.7752808988764045, 0.3611111111111111, 'gini = 0.0\\nsamples = 1\\nvalue = [1, 0]\\nclass = Died'),\n",
       " Text(0.8089887640449438, 0.4166666666666667, 'age <= 20.5\\ngini = 0.059\\nsamples = 33\\nvalue = [32, 1]\\nclass = Died'),\n",
       " Text(0.797752808988764, 0.3611111111111111, 'fare <= 7.988\\ngini = 0.165\\nsamples = 11\\nvalue = [10, 1]\\nclass = Died'),\n",
       " Text(0.7865168539325843, 0.3055555555555556, 'fare <= 7.91\\ngini = 0.278\\nsamples = 6\\nvalue = [5, 1]\\nclass = Died'),\n",
       " Text(0.7752808988764045, 0.25, 'gini = 0.0\\nsamples = 4\\nvalue = [4, 0]\\nclass = Died'),\n",
       " Text(0.797752808988764, 0.25, 'gini = 0.5\\nsamples = 2\\nvalue = [1, 1]\\nclass = Died'),\n",
       " Text(0.8089887640449438, 0.3055555555555556, 'gini = 0.0\\nsamples = 5\\nvalue = [5, 0]\\nclass = Died'),\n",
       " Text(0.8202247191011236, 0.3611111111111111, 'gini = 0.0\\nsamples = 22\\nvalue = [22, 0]\\nclass = Died'),\n",
       " Text(0.7247191011235955, 0.5833333333333334, 'gini = 0.0\\nsamples = 3\\nvalue = [0, 3]\\nclass = Survived'),\n",
       " Text(0.8623595505617978, 0.6388888888888888, 'fare <= 7.825\\ngini = 0.147\\nsamples = 75\\nvalue = [69, 6]\\nclass = Died'),\n",
       " Text(0.851123595505618, 0.5833333333333334, 'gini = 0.0\\nsamples = 26\\nvalue = [26, 0]\\nclass = Died'),\n",
       " Text(0.8735955056179775, 0.5833333333333334, 'embarked <= 1.0\\ngini = 0.215\\nsamples = 49\\nvalue = [43, 6]\\nclass = Died'),\n",
       " Text(0.8426966292134831, 0.5277777777777778, 'age <= 31.0\\ngini = 0.444\\nsamples = 3\\nvalue = [2, 1]\\nclass = Died'),\n",
       " Text(0.8314606741573034, 0.4722222222222222, 'gini = 0.0\\nsamples = 1\\nvalue = [0, 1]\\nclass = Survived'),\n",
       " Text(0.8539325842696629, 0.4722222222222222, 'gini = 0.0\\nsamples = 2\\nvalue = [2, 0]\\nclass = Died'),\n",
       " Text(0.9044943820224719, 0.5277777777777778, 'age <= 38.5\\ngini = 0.194\\nsamples = 46\\nvalue = [41, 5]\\nclass = Died'),\n",
       " Text(0.8764044943820225, 0.4722222222222222, 'fare <= 7.865\\ngini = 0.121\\nsamples = 31\\nvalue = [29, 2]\\nclass = Died'),\n",
       " Text(0.8539325842696629, 0.4166666666666667, 'age <= 30.0\\ngini = 0.5\\nsamples = 2\\nvalue = [1, 1]\\nclass = Died'),\n",
       " Text(0.8426966292134831, 0.3611111111111111, 'gini = 0.0\\nsamples = 1\\nvalue = [1, 0]\\nclass = Died'),\n",
       " Text(0.8651685393258427, 0.3611111111111111, 'gini = 0.0\\nsamples = 1\\nvalue = [0, 1]\\nclass = Survived'),\n",
       " Text(0.898876404494382, 0.4166666666666667, 'fare <= 9.492\\ngini = 0.067\\nsamples = 29\\nvalue = [28, 1]\\nclass = Died'),\n",
       " Text(0.8876404494382022, 0.3611111111111111, 'gini = 0.0\\nsamples = 21\\nvalue = [21, 0]\\nclass = Died'),\n",
       " Text(0.9101123595505618, 0.3611111111111111, 'fare <= 10.0\\ngini = 0.219\\nsamples = 8\\nvalue = [7, 1]\\nclass = Died'),\n",
       " Text(0.898876404494382, 0.3055555555555556, 'age <= 31.5\\ngini = 0.5\\nsamples = 2\\nvalue = [1, 1]\\nclass = Died'),\n",
       " Text(0.8876404494382022, 0.25, 'gini = 0.0\\nsamples = 1\\nvalue = [0, 1]\\nclass = Survived'),\n",
       " Text(0.9101123595505618, 0.25, 'gini = 0.0\\nsamples = 1\\nvalue = [1, 0]\\nclass = Died'),\n",
       " Text(0.9213483146067416, 0.3055555555555556, 'gini = 0.0\\nsamples = 6\\nvalue = [6, 0]\\nclass = Died'),\n",
       " Text(0.9325842696629213, 0.4722222222222222, 'age <= 40.5\\ngini = 0.32\\nsamples = 15\\nvalue = [12, 3]\\nclass = Died'),\n",
       " Text(0.9213483146067416, 0.4166666666666667, 'gini = 0.5\\nsamples = 2\\nvalue = [1, 1]\\nclass = Died'),\n",
       " Text(0.9438202247191011, 0.4166666666666667, 'age <= 44.5\\ngini = 0.26\\nsamples = 13\\nvalue = [11, 2]\\nclass = Died'),\n",
       " Text(0.9325842696629213, 0.3611111111111111, 'gini = 0.0\\nsamples = 4\\nvalue = [4, 0]\\nclass = Died'),\n",
       " Text(0.9550561797752809, 0.3611111111111111, 'age <= 46.0\\ngini = 0.346\\nsamples = 9\\nvalue = [7, 2]\\nclass = Died'),\n",
       " Text(0.9438202247191011, 0.3055555555555556, 'gini = 0.0\\nsamples = 1\\nvalue = [0, 1]\\nclass = Survived'),\n",
       " Text(0.9662921348314607, 0.3055555555555556, 'age <= 58.75\\ngini = 0.219\\nsamples = 8\\nvalue = [7, 1]\\nclass = Died'),\n",
       " Text(0.9550561797752809, 0.25, 'gini = 0.0\\nsamples = 5\\nvalue = [5, 0]\\nclass = Died'),\n",
       " Text(0.9775280898876404, 0.25, 'age <= 64.0\\ngini = 0.444\\nsamples = 3\\nvalue = [2, 1]\\nclass = Died'),\n",
       " Text(0.9662921348314607, 0.19444444444444445, 'gini = 0.0\\nsamples = 1\\nvalue = [0, 1]\\nclass = Survived'),\n",
       " Text(0.9887640449438202, 0.19444444444444445, 'gini = 0.0\\nsamples = 2\\nvalue = [2, 0]\\nclass = Died'),\n",
       " Text(0.9073033707865169, 0.75, 'fare <= 25.075\\ngini = 0.028\\nsamples = 71\\nvalue = [70, 1]\\nclass = Died'),\n",
       " Text(0.8960674157303371, 0.6944444444444444, 'gini = 0.0\\nsamples = 49\\nvalue = [49, 0]\\nclass = Died'),\n",
       " Text(0.9185393258426966, 0.6944444444444444, 'fare <= 26.125\\ngini = 0.087\\nsamples = 22\\nvalue = [21, 1]\\nclass = Died'),\n",
       " Text(0.9073033707865169, 0.6388888888888888, 'age <= 33.5\\ngini = 0.245\\nsamples = 7\\nvalue = [6, 1]\\nclass = Died'),\n",
       " Text(0.8960674157303371, 0.5833333333333334, 'gini = 0.0\\nsamples = 1\\nvalue = [0, 1]\\nclass = Survived'),\n",
       " Text(0.9185393258426966, 0.5833333333333334, 'gini = 0.0\\nsamples = 6\\nvalue = [6, 0]\\nclass = Died'),\n",
       " Text(0.9297752808988764, 0.6388888888888888, 'gini = 0.0\\nsamples = 15\\nvalue = [15, 0]\\nclass = Died')]"
      ]
     },
     "execution_count": 12,
     "metadata": {},
     "output_type": "execute_result"
    },
    {
     "data": {
      "image/png": "[encoded data removed]",
      "text/plain": [
       "<Figure size 640x480 with 1 Axes>"
      ]
     },
     "metadata": {},
     "output_type": "display_data"
    }
   ],
   "source": [
    "plot_tree(clf, feature_names=X.columns, class_names=['Died', 'Survived'], filled=True)"
   ]
  },
  {
   "cell_type": "code",
   "execution_count": 13,
   "id": "f476afa6",
   "metadata": {},
   "outputs": [],
   "source": [
    "plt.show()"
   ]
  },
  {
   "cell_type": "markdown",
   "id": "c1101f2e",
   "metadata": {},
   "source": [
    "# Task 6: Model Tuning"
   ]
  },
  {
   "cell_type": "code",
   "execution_count": 14,
   "id": "1934e23e",
   "metadata": {},
   "outputs": [],
   "source": [
    "train_scores = []"
   ]
  },
  {
   "cell_type": "code",
   "execution_count": 15,
   "id": "50047577",
   "metadata": {},
   "outputs": [],
   "source": [
    "test_scores = []\n",
    "depths = range(1, 20)"
   ]
  },
  {
   "cell_type": "code",
   "execution_count": 16,
   "id": "ae912dc9",
   "metadata": {},
   "outputs": [],
   "source": [
    "for d in depths:\n",
    "    clf = DecisionTreeClassifier(max_depth=d, random_state=42)\n",
    "    clf.fit(X_train, y_train)\n",
    "    train_scores.append(clf.score(X_train, y_train))\n",
    "    test_scores.append(clf.score(X_test, y_test))"
   ]
  },
  {
   "cell_type": "code",
   "execution_count": 17,
   "id": "f4ed5e8b",
   "metadata": {},
   "outputs": [
    {
     "data": {
      "image/png": "[encoded data removed]",
      "text/plain": [
       "<Figure size 640x480 with 1 Axes>"
      ]
     },
     "metadata": {},
     "output_type": "display_data"
    }
   ],
   "source": [
    "plt.plot(depths, train_scores, label=\"Train Accuracy\")\n",
    "plt.plot(depths, test_scores, label=\"Test Accuracy\")\n",
    "plt.xlabel(\"Max Depth\")\n",
    "plt.ylabel(\"Accuracy\")\n",
    "plt.legend()\n",
    "plt.title(\"Overfitting Visualization\")\n",
    "plt.show()"
   ]
  },
  {
   "cell_type": "code",
   "execution_count": null,
   "id": "2609e2d8",
   "metadata": {},
   "outputs": [],
   "source": []
  },
  {
   "cell_type": "markdown",
   "id": "e348b084",
   "metadata": {},
   "source": [
    "## Part III: Ensemble Learning"
   ]
  },
  {
   "cell_type": "markdown",
   "id": "cf07f42f",
   "metadata": {},
   "source": [
    "# Task 7: Theory (written as comments)\n",
    " 1. Bagging: parallel training; Boosting: sequential training.\n",
    " 2. Random Forest reduces variance by averaging multiple decision trees.\n",
    " 3. Boosting can overfit if there's noise, as it focuses on difficult samples."
   ]
  },
  {
   "cell_type": "code",
   "execution_count": 18,
   "id": "3a7987b7",
   "metadata": {},
   "outputs": [],
   "source": [
    "from sklearn.ensemble import RandomForestClassifier\n",
    "rf = RandomForestClassifier(n_estimators=100, random_state=42)\n",
    "rf.fit(X_train, y_train)\n",
    "y_rf = rf.predict(X_test)"
   ]
  },
  {
   "cell_type": "code",
   "execution_count": 19,
   "id": "b5d828d4",
   "metadata": {},
   "outputs": [
    {
     "name": "stdout",
     "output_type": "stream",
     "text": [
      "Random Forest Accuracy: 0.780373831775701\n",
      "Precision: 0.7710843373493976\n",
      "Recall: 0.6956521739130435\n"
     ]
    }
   ],
   "source": [
    "print(\"Random Forest Accuracy:\", accuracy_score(y_test, y_rf))\n",
    "print(\"Precision:\", precision_score(y_test, y_rf))\n",
    "print(\"Recall:\", recall_score(y_test, y_rf))"
   ]
  },
  {
   "cell_type": "code",
   "execution_count": 20,
   "id": "2d8c011a",
   "metadata": {},
   "outputs": [],
   "source": [
    "importances = pd.Series(rf.feature_importances_, index=X.columns)"
   ]
  },
  {
   "cell_type": "code",
   "execution_count": 21,
   "id": "dcd2bd49",
   "metadata": {},
   "outputs": [
    {
     "data": {
      "image/png": "[encoded data removed]",
      "text/plain": [
       "<Figure size 640x480 with 1 Axes>"
      ]
     },
     "metadata": {},
     "output_type": "display_data"
    }
   ],
   "source": [
    "importances.sort_values().plot(kind='barh')\n",
    "plt.title(\"Feature Importances\")\n",
    "plt.show()"
   ]
  },
  {
   "cell_type": "code",
   "execution_count": 22,
   "id": "2abe14b6",
   "metadata": {},
   "outputs": [],
   "source": [
    "from sklearn.ensemble import AdaBoostClassifier, GradientBoostingClassifier\n",
    "import time"
   ]
  },
  {
   "cell_type": "code",
   "execution_count": 23,
   "id": "1461b019",
   "metadata": {},
   "outputs": [
    {
     "name": "stderr",
     "output_type": "stream",
     "text": [
      "C:\\Users\\shubh\\AppData\\Local\\Packages\\PythonSoftwareFoundation.Python.3.12_qbz5n2kfra8p0\\LocalCache\\local-packages\\Python312\\site-packages\\sklearn\\ensemble\\_weight_boosting.py:527: FutureWarning: The SAMME.R algorithm (the default) is deprecated and will be removed in 1.6. Use the SAMME algorithm to circumvent this warning.\n",
      "  warnings.warn(\n"
     ]
    }
   ],
   "source": [
    "start = time.time()\n",
    "ada = AdaBoostClassifier(n_estimators=100)\n",
    "ada.fit(X_train, y_train)\n",
    "y_ada = ada.predict(X_test)\n",
    "end = time.time()"
   ]
  },
  {
   "cell_type": "code",
   "execution_count": 24,
   "id": "96a21f6a",
   "metadata": {},
   "outputs": [
    {
     "name": "stdout",
     "output_type": "stream",
     "text": [
      "AdaBoost Accuracy: 0.7990654205607477\n",
      "F1 Score: 0.7624309392265194\n",
      "Training Time: 0.34 seconds\n"
     ]
    }
   ],
   "source": [
    "from sklearn.metrics import f1_score\n",
    "print(\"AdaBoost Accuracy:\", accuracy_score(y_test, y_ada))\n",
    "print(\"F1 Score:\", f1_score(y_test, y_ada))\n",
    "print(\"Training Time:\", round(end - start, 2), \"seconds\")"
   ]
  }
 ],
 "metadata": {
  "kernelspec": {
   "display_name": "Python 3",
   "language": "python",
   "name": "python3"
  },
  "language_info": {
   "codemirror_mode": {
    "name": "ipython",
    "version": 3
   },
   "file_extension": ".py",
   "mimetype": "text/x-python",
   "name": "python",
   "nbconvert_exporter": "python",
   "pygments_lexer": "ipython3",
   "version": "3.12.10"
  }
 },
 "nbformat": 4,
 "nbformat_minor": 5
}
